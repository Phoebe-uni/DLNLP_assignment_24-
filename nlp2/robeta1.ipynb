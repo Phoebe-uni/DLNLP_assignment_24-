{
 "cells": [
  {
   "cell_type": "code",
   "execution_count": 1,
   "id": "f478ddbd-8588-4f22-ac6a-e3bc106e2dd5",
   "metadata": {},
   "outputs": [
    {
     "name": "stderr",
     "output_type": "stream",
     "text": [
      "C:\\Users\\南京中略信息技术有限公司\\AppData\\Local\\Temp\\ipykernel_20248\\4275997296.py:12: TqdmExperimentalWarning: Using `tqdm.autonotebook.tqdm` in notebook mode. Use `tqdm.tqdm` instead to force console mode (e.g. in jupyter console)\n",
      "  from tqdm.autonotebook import tqdm\n"
     ]
    }
   ],
   "source": [
    "import torch\n",
    "import pandas as pd\n",
    "import numpy as np\n",
    "import re\n",
    "import random\n",
    "\n",
    "import torch.nn as nn                     # neural networks\n",
    "import torch.nn.functional as F           # layers, activations and more\n",
    "import torch.optim as optim               # optimizers e.g. gradient descent, ADAM, etc.\n",
    "from torch.optim import lr_scheduler\n",
    "\n",
    "from tqdm.autonotebook import tqdm\n",
    "\n",
    "#nltk\n",
    "from nltk.corpus import stopwords\n",
    "stop=set(stopwords.words('english'))\n",
    "import string\n",
    "\n",
    "#!pip install git+https://github.com/gmihaila/ml_things\n",
    "#from ml_things import plot_dict\n",
    "\n",
    "from sklearn import model_selection\n",
    "from sklearn.model_selection import StratifiedKFold\n",
    "import transformers\n",
    "import tokenizers\n",
    "from transformers import AdamW\n",
    "from transformers import get_linear_schedule_with_warmup\n",
    "from tokenizers import ByteLevelBPETokenizer\n",
    "from transformers import RobertaModel, RobertaConfig\n",
    "from torch.utils.data import Dataset, DataLoader\n",
    "\n",
    "from transformers import logging\n",
    "logging.set_verbosity_warning()\n",
    "import warnings\n",
    "warnings.filterwarnings('ignore')\n",
    "\n",
    "%matplotlib inline\n",
    "import matplotlib.pyplot as plt"
   ]
  },
  {
   "cell_type": "code",
   "execution_count": 2,
   "id": "a2523e9f-6209-4242-b524-26776a605267",
   "metadata": {},
   "outputs": [],
   "source": [
    "train_df = pd.read_csv('./input/train.csv')\n",
    "train_df.drop(314, inplace=True) # This row was found to have 'nan' values, so dropping it\n",
    "train_df.reset_index(drop=True, inplace=True)\n",
    "train_df['text'] = train_df['text'].astype(str)\n",
    "train_df['selected_text'] = train_df['selected_text']\n",
    "\n",
    "test_df = pd.read_csv('./input/test.csv').reset_index(drop=True)\n",
    "test_df['text'] = test_df['text'].astype(str)\n",
    "\n",
    "train_loss = []\n",
    "val_loss = []\n",
    "jac_train = []\n",
    "jac_val = []"
   ]
  },
  {
   "cell_type": "code",
   "execution_count": 3,
   "id": "1defb552-d314-4e31-9cad-ebb00c06c8c4",
   "metadata": {},
   "outputs": [
    {
     "data": {
      "text/plain": [
       "Text(0.5, 0, 'Sentiment balance in the data')"
      ]
     },
     "execution_count": 3,
     "metadata": {},
     "output_type": "execute_result"
    },
    {
     "data": {
      "image/png": "[encoded data removed]",
      "text/plain": [
       "<Figure size 640x480 with 1 Axes>"
      ]
     },
     "metadata": {},
     "output_type": "display_data"
    }
   ],
   "source": [
    "import seaborn as sns\n",
    "ax = sns.countplot(train_df.sentiment)\n",
    "plt.xlabel('Sentiment balance in the data')"
   ]
  },
  {
   "cell_type": "code",
   "execution_count": 4,
   "id": "363b81e8-87ff-4ac5-b04e-5ca8b48d5570",
   "metadata": {},
   "outputs": [],
   "source": [
    "PATH = \"./roberta\"\n",
    "\n",
    "tokenizer = ByteLevelBPETokenizer(\n",
    "            vocab = f'{PATH}/vocab.json', \n",
    "            merges= f'{PATH}/merges.txt', \n",
    "            add_prefix_space = True,\n",
    "            lowercase=True)\n",
    "\n",
    "tokenizer.enable_truncation(max_length=512)    # since length cannot be set, use enable_truncation() instead"
   ]
  },
  {
   "cell_type": "code",
   "execution_count": 5,
   "id": "fee8bcb1-2e6c-47f2-a303-dc024c1c2105",
   "metadata": {},
   "outputs": [],
   "source": [
    "MAX_LENGTH = 100\n",
    "TRAIN_BATCH_SIZE = 16\n",
    "TEST_BATCH_SIZE = 16\n",
    "EPOCHS = 5"
   ]
  },
  {
   "cell_type": "code",
   "execution_count": 6,
   "id": "85d019c8-4be2-4384-b988-d05b77ca374d",
   "metadata": {},
   "outputs": [],
   "source": [
    "device = torch.device(\"cuda:0\" if torch.cuda.is_available() else \"cpu\")"
   ]
  },
  {
   "cell_type": "code",
   "execution_count": 7,
   "id": "320d1ae9-e9fb-445e-9eef-a2a99ff0dd1c",
   "metadata": {},
   "outputs": [
    {
     "data": {
      "text/plain": [
       "([2430], [1313], [7974])"
      ]
     },
     "execution_count": 7,
     "metadata": {},
     "output_type": "execute_result"
    }
   ],
   "source": [
    "val1 = tokenizer.encode('negative').ids\n",
    "val2 = tokenizer.encode('positive').ids\n",
    "val3 = tokenizer.encode('neutral').ids\n",
    "val1, val2, val3"
   ]
  },
  {
   "cell_type": "code",
   "execution_count": 8,
   "id": "a72b7091-9c4b-406d-af4d-9c7dbce8c5db",
   "metadata": {},
   "outputs": [],
   "source": [
    "class TextDataset(Dataset):\n",
    "    \n",
    "    def __init__(self, df, tokenizer, max_length):\n",
    "        #data loading\n",
    "        self.df = df\n",
    "        self.selected_text = \"selected_text\" in df\n",
    "        self.tokenizer = tokenizer\n",
    "        self.max_length = MAX_LENGTH\n",
    "        \n",
    "    def __len__(self):\n",
    "        #len(dataset) i.e., the total number of samples\n",
    "        return len(self.df)\n",
    "    \n",
    "    '''\n",
    "    def cleanText(self, text):\n",
    "        #clean the text\n",
    "        text = str(text).lower()\n",
    "        text = re.sub('\\[.*?\\]', '', text)\n",
    "        text = ' '.join([word for word in text.split(' ') if word not in stop])\n",
    "        text = text.encode('ascii', 'ignore').decode()\n",
    "        text = re.sub(r'https*\\S+', ' ', text)\n",
    "        text = re.sub(r'@\\S+', ' ', text)\n",
    "        text = re.sub(r'#\\S+', ' ', text)\n",
    "        text = re.sub(r'\\'\\w+', '', text)\n",
    "        text = re.sub('[%s]' % re.escape(string.punctuation), ' ', text)\n",
    "        text = re.sub(r'\\w*\\d+\\w*', '', text)\n",
    "        text = re.sub(r'\\s{2,}', ' ', text)\n",
    "        text = re.sub(r\"^\\s+|\\s+$\", \"\", text) \n",
    "        #text = re.sub(r'[^a-zA-Z\\']', ' ', text)\n",
    "        #text = re.sub(r'[^\\x00-\\x7F]+', '', text)\n",
    "        return text\n",
    "    '''\n",
    "\n",
    "    \n",
    "    def get_data(self, row):\n",
    "        #processing the data\n",
    "        text = \" \"+\" \".join(row.text.lower().split()) # clean the text\n",
    "        encoded_input = self.tokenizer.encode(text) # the sentence to be encoded\n",
    "        \n",
    "        sentiment_id = {\n",
    "                'positive': 1313,\n",
    "                'negative': 2430,\n",
    "                'neutral': 7974\n",
    "            }  # stating the ids of the sentiment values \n",
    "        \n",
    "        #print ([list((i, encoded_input[i])) for i in range(len(encoded_input))])\n",
    "        '''\n",
    "        # The input_ids are the sentence or sentences represented as tokens. \n",
    "        # There are a few BERT special tokens that one needs to take note of:\n",
    "\n",
    "        # [CLS] - Classifier token, value: [101] \n",
    "        # [SEP] - Separator token, value: [102]\n",
    "        # [PAD] - Padding token, value: 0\n",
    "\n",
    "        # Bert expects every row in the input_ids to have the special tokens included as follows:\n",
    "\n",
    "        # For one sentence as input:\n",
    "        # [CLS] ...word tokens... [SEP]\n",
    "\n",
    "        # For two sentences as input:\n",
    "        # [CLS] ...sentence1 tokens... [SEP]..sentence2 tokens... [SEP]\n",
    "        '''\n",
    "        \n",
    "        input_ids = [101] + [sentiment_id[row.sentiment]] + [102] + encoded_input.ids + [102]\n",
    "            \n",
    "        '''\n",
    "        id: unique identifier for each token\n",
    "        offset: starting and ending point in a sentence\n",
    "        '''        \n",
    "                 \n",
    "        #ID offsets       \n",
    "        offsets = [(0, 0)] * 3 + encoded_input.offsets + [(0, 0)]     # since first 3 are [CLS] ...sentiment tokens... [SEP]\n",
    "        \n",
    "        \n",
    "        pad_len = self.max_length - len(input_ids)    \n",
    "        if pad_len > 0:\n",
    "            input_ids += ([0] * pad_len)\n",
    "            offsets += ([(0, 0)] * pad_len)\n",
    "                       \n",
    "        input_ids = torch.tensor(input_ids, dtype=torch.long)\n",
    "        \n",
    "        # The mask has 1 for real tokens and 0 for padding tokens. Only real tokens are attended to.\n",
    "        masks = torch.where(input_ids != 0, torch.tensor(1), torch.tensor(0))  \n",
    "        '''\n",
    "        # The attention mask has the same length as the input_ids(or token_type_ids). \n",
    "        # It tells the model which tokens in the input_ids are words and which are padding. \n",
    "        # 1 indicates a word (or special token) and 0 indicates padding.\n",
    "\n",
    "        # For example:\n",
    "        # Tokens: [101, 7592, 2045, 1012,  102,    0,    0,    0,    0,    0]\n",
    "        # Attention mask: [1, 1, 1, 1, 1, 0, 0, 0, 0, 0]\n",
    "        '''\n",
    "        \n",
    "        masks = torch.tensor(masks, dtype=torch.long)\n",
    "        offsets = torch.tensor(offsets, dtype=torch.long)\n",
    "                \n",
    "        return input_ids, masks, text, offsets\n",
    "    \n",
    "    def get_target_ids(self, row, text, offsets):\n",
    "        # preparing data only for the training\n",
    "        selected_text = \" \" + \" \".join(row.selected_text.lower().split())\n",
    "\n",
    "        string_len = len(selected_text) - 1\n",
    "        \n",
    "        idx0 = None\n",
    "        idx1 = None\n",
    "            \n",
    "        for ind in (position for position, line in enumerate(text) if line == selected_text[1]):\n",
    "            if \" \" + text[ind: ind+string_len] == selected_text:\n",
    "                idx0 = ind\n",
    "                idx1 = ind + string_len - 1\n",
    "                break\n",
    "                \n",
    "        char_targets = [0] * len(text)\n",
    "        if idx0 != None and idx1 != None:\n",
    "            for ct in range(idx0, idx1 + 1):\n",
    "                char_targets[ct] = 1\n",
    "        '''\n",
    "        char_targets only give 1 to the part of the selected_text within a text\n",
    "        e.g: [0. 0. 0. 0. 0. 0. 0. 1. 1. 1. 1. 1. 0. 0. 0. 0. 0. 0. 0. 0. 0. 0. 0.]\n",
    "        Here, for the length of the text, [1] is only at the index position of the selected text.\n",
    "        This helps us get the start and end indices of the selected text in the next stage.\n",
    "        '''               \n",
    "        # Start and end tokens\n",
    "        target_idx = []\n",
    "        for k, (offset1, offset2) in enumerate(offsets):\n",
    "            if sum(char_targets[offset1: offset2]) > 0:\n",
    "                try:\n",
    "                    target_idx.append(k)\n",
    "                except:\n",
    "                    continue\n",
    "\n",
    "        targets_start = target_idx[0]\n",
    "        targets_end = target_idx[-1]\n",
    "                \n",
    "        return selected_text, targets_start, targets_end\n",
    "    \n",
    "   \n",
    "    \n",
    "    def __getitem__(self, index): # addressing each row by its index\n",
    "        #dataset[index] i.e., generates one sample of data\n",
    "        data = {}\n",
    "        row = self.df.iloc[index]\n",
    "        \n",
    "        ids, masks, text, offsets = self.get_data(row)\n",
    "        data['ids'] = ids\n",
    "        data['masks'] = masks\n",
    "        data['text'] = text\n",
    "        data['offsets'] = offsets\n",
    "        data['sentiment'] = row.sentiment\n",
    "        \n",
    "        if self.selected_text:   #checking if selected text exists\n",
    "            # This part only exists in the training\n",
    "            selected_text,start_index, end_index = self.get_target_ids(row, text, offsets)\n",
    "            data['start_index'] = start_index\n",
    "            data['end_index'] = end_index   \n",
    "            data['selected_text'] = selected_text\n",
    "                \n",
    "        return data"
   ]
  },
  {
   "cell_type": "code",
   "execution_count": 9,
   "id": "b383d0ab-0446-4a1f-8614-8d6fa0ea81c2",
   "metadata": {},
   "outputs": [],
   "source": [
    "class TextModel(nn.Module):\n",
    "     \n",
    "    def __init__(self):\n",
    "        super(TextModel, self).__init__()\n",
    "        # RoBERTa encoder \n",
    "        config = RobertaConfig.from_pretrained(\n",
    "            './roberta/config.json', output_hidden_states=True)    \n",
    "        self.roberta = RobertaModel.from_pretrained(\n",
    "            './roberta/pytorch_model.bin', config=config)\n",
    "\n",
    "        for param in self.roberta.parameters():\n",
    "            param.requires_grad = True\n",
    "    \n",
    "        self.drop0 = nn.Dropout(0.15)\n",
    "        self.l0 = nn.Linear(config.hidden_size * 2,config.hidden_size) \n",
    "        # Multiplied by 2 since the forward pass concatenates the last two hidden representation layers\n",
    "        self.drop1 = nn.Dropout(config.hidden_dropout_prob)\n",
    "        self.l1 = nn.Linear(config.hidden_size, 2)  # The output will have two dimensions- start and end logits\n",
    "        torch.nn.init.normal_(self.l0.weight, std=0.02)\n",
    "        torch.nn.init.normal_(self.l0.bias, 0)\n",
    "        \n",
    "    def forward(self, ids, masks): #, token_type_ids\n",
    "        # Return the hidden states from the RoBERTa backbone\n",
    "        # Type: torch tensor\n",
    "        last_hidden_state, pooled_output, hidden_states = self.roberta(input_ids=ids, attention_mask=masks, return_dict=False)\n",
    "        # input_ids.shape and attention_mask.shape both will be of the size (batch size x seq length)\n",
    "        #print(last_hidden_state.shape) : torch.Size([24, 100, 768])\n",
    "        # But why 768? \n",
    "        #This is the number of hidden units in the feedforward-networks. We can verify that by checking the config.\n",
    "        '''\n",
    "        About the parameters:\n",
    "        \n",
    "        input_ids (torch.LongTensor of shape (batch_size, sequence_length)) –\n",
    "        Indices of input sequence tokens in the vocabulary.\n",
    "        Indices can be obtained using Tokenizer. See transformers.PreTrainedTokenizer.encode() and transformers.PreTrainedTokenizer.__call__() for details.\n",
    "\n",
    "        attention_mask (torch.FloatTensor of shape (batch_size, sequence_length), optional) –\n",
    "        Mask to avoid performing attention on padding token indices. Mask values selected in [0, 1]:\n",
    "        1 for tokens that are not masked,\n",
    "        0 for tokens that are masked.\n",
    "        \n",
    "        '''\n",
    "        \n",
    "        # Concatenate the last two hidden states\n",
    "        out = torch.cat((hidden_states[-1], hidden_states[-2]), dim=-1)   \n",
    "        #out = torch.mean(out, 0) # take the mean along axis 0\n",
    "        \n",
    "        # adding dropouts and linear layers\n",
    "        out = self.drop0(out)\n",
    "        out = F.relu(self.l0(out))\n",
    "        out = self.drop1(out) \n",
    "        out = self.l1(out) \n",
    "        \n",
    "        #splitting the tensor into two logits \n",
    "        start_logits, end_logits = out.split(1, dim=-1) # dimension along which to split the tensor.\n",
    "        # Return a tensor with all the dimensions of input of size 1 removed, for both the logits.\n",
    "        start_logits = start_logits.squeeze()  #Squeezing a tensor removes the dimensions or axes that have a length of one\n",
    "        end_logits = end_logits.squeeze() \n",
    "        \n",
    "        return start_logits, end_logits    "
   ]
  },
  {
   "cell_type": "code",
   "execution_count": 10,
   "id": "4cdf16cc-1d7d-4894-85d0-81583a2ca4f8",
   "metadata": {},
   "outputs": [],
   "source": [
    "def train_val_dataloaders(df, train_idx, val_idx, batch_size):\n",
    "    train_df = df.iloc[train_idx]\n",
    "    val_df = df.iloc[val_idx]\n",
    "\n",
    "    train_loader = torch.utils.data.DataLoader(\n",
    "        TextDataset(train_df, tokenizer, MAX_LENGTH), \n",
    "        batch_size=batch_size, \n",
    "        shuffle=True, \n",
    "        num_workers=0,   # to avoid multi-process, keep it at 0\n",
    "        drop_last=True)\n",
    "\n",
    "    val_loader = torch.utils.data.DataLoader(\n",
    "        TextDataset(val_df, tokenizer, MAX_LENGTH),\n",
    "        batch_size=batch_size, \n",
    "        shuffle=False, \n",
    "        num_workers=0)\n",
    "\n",
    "    dataloaders_dict = {\"train\": train_loader, \"val\": val_loader}\n",
    "\n",
    "    return dataloaders_dict"
   ]
  },
  {
   "cell_type": "code",
   "execution_count": 11,
   "id": "832c3c4a-8502-4c9b-8fec-e390183a1873",
   "metadata": {},
   "outputs": [],
   "source": [
    "def test_loader(df, batch_size=TEST_BATCH_SIZE):\n",
    "    loader = torch.utils.data.DataLoader(\n",
    "        TextDataset(test_df, tokenizer, MAX_LENGTH), \n",
    "        batch_size=batch_size, \n",
    "        shuffle=False, \n",
    "        num_workers=0)    \n",
    "    return loader"
   ]
  },
  {
   "cell_type": "code",
   "execution_count": 12,
   "id": "6d4f8671-5b71-42d3-b405-244845f11a31",
   "metadata": {},
   "outputs": [],
   "source": [
    "def loss_function(start_logits, end_logits, start_positions, end_positions):\n",
    "    # calculating cross entropy losses for both the start and end logits\n",
    "    loss = nn.CrossEntropyLoss(reduction='mean') # for a multi-class classification problem\n",
    "    start_loss = loss(start_logits, start_positions)\n",
    "    end_loss = loss(end_logits, end_positions)\n",
    "    total_loss = (start_loss + end_loss)\n",
    "    return total_loss"
   ]
  },
  {
   "cell_type": "code",
   "execution_count": 13,
   "id": "61acc1d6-fb32-4cbb-b9b0-b13c1fd67ba0",
   "metadata": {},
   "outputs": [],
   "source": [
    "def get_selected_text(text, start_idx, end_idx, offsets):\n",
    "    if end_idx < start_idx:\n",
    "        end_idx = start_idx\n",
    "    select_text = \"\"\n",
    "    for idx in range(start_idx, end_idx + 1):\n",
    "        select_text += text[offsets[idx][0]: offsets[idx][1]]\n",
    "        if (idx + 1) < len(offsets) and offsets[idx][1] < offsets[idx + 1][0]:\n",
    "            select_text += \" \"\n",
    "    return select_text"
   ]
  },
  {
   "cell_type": "code",
   "execution_count": 14,
   "id": "af10d517-eeeb-420b-8d7b-2b304d13a200",
   "metadata": {},
   "outputs": [],
   "source": [
    "# evaluation metric \n",
    "def jaccard(str1, str2): \n",
    "    a = set(str1.lower().split()) \n",
    "    b = set(str2.lower().split())\n",
    "    c = a.intersection(b)\n",
    "    d = (len(a) + len(b) - len(c))\n",
    "    if d != 0:\n",
    "         return float(len(c) / d)\n",
    "    else:\n",
    "         return 0.0"
   ]
  },
  {
   "cell_type": "code",
   "execution_count": 15,
   "id": "00e8dc16-efad-4bc8-a2ef-71cea05aa983",
   "metadata": {},
   "outputs": [],
   "source": [
    "def find_jaccard_score(text, selected_text, sentiment, offsets, start_logits, end_logits): #start_idx, end_idx\n",
    "    start_pred = np.argmax(start_logits) # Predicted start index using argmax\n",
    "    end_pred = np.argmax(end_logits) # Predicted end index using argmax\n",
    "    if (end_pred <= start_pred) or sentiment == 'neutral' or len(text.split()) < 2:\n",
    "        enc = tokenizer.encode(text)\n",
    "        prediction = tokenizer.decode(enc.ids[start_pred-1:end_pred])   \n",
    "    else:\n",
    "        prediction = get_selected_text(text, start_pred, end_pred, offsets)\n",
    "    true = selected_text\n",
    "    #true = get_selected_text(text, start_idx, end_idx, offsets)\n",
    "    return jaccard(true, prediction), prediction"
   ]
  },
  {
   "cell_type": "code",
   "execution_count": 16,
   "id": "b83a350c-4c30-44d6-a8f4-db67f4502506",
   "metadata": {},
   "outputs": [],
   "source": [
    "def train(model, dataloaders_dict, optimizer, num_epochs, scheduler, device, filename): \n",
    "    '''\n",
    "    Train pytorch model on a single pass through the data loader.\n",
    " \n",
    "        This function is built with reusability in mind: it can be used as is as long\n",
    "        as the `dataloader` outputs a batch in dictionary format that can be passed \n",
    "        straight into the model - `model(**batch)`.\n",
    "\n",
    "      Some of the arguments:\n",
    "\n",
    "      dataloader (:obj:`torch.utils.data.dataloader.DataLoader`):\n",
    "          Parsed data into batches of tensors.\n",
    " \n",
    "      optimizer_ (:obj:`transformers.optimization.AdamW`):\n",
    "          Optimizer used for training.\n",
    " \n",
    "      scheduler_ (:obj:`torch.optim.lr_scheduler.LambdaLR`):\n",
    "          PyTorch scheduler.\n",
    " \n",
    "      device_ (:obj:`torch.device`):\n",
    "          Device used to load tensors before feeding to model.\n",
    "    '''\n",
    "    # Set device as `cuda` (GPU)\n",
    "    model.to(device)\n",
    "    for epoch in range(num_epochs):\n",
    "        for key in ['train', 'val']:\n",
    "            if key == 'train':\n",
    "                model.train()\n",
    "                dataloaders = dataloaders_dict['train']\n",
    "            else:\n",
    "                model.eval()\n",
    "                dataloaders = dataloaders_dict['val']\n",
    "\n",
    "            epoch_loss = 0.0\n",
    "            epoch_jaccard = 0.0\n",
    "            \n",
    "            # Set tqdm to add loading screen and set the length\n",
    "            loader = tqdm(dataloaders, total=len(dataloaders))\n",
    "            #print(len(dataloaders))\n",
    "                        \n",
    "            # loop over the data iterator, and feed the inputs to the network\n",
    "            # Train the model on each batch\n",
    "            for (idx, data) in enumerate(loader):\n",
    "                ids = data['ids']\n",
    "                masks = data['masks']\n",
    "                text = data['text']\n",
    "                offsets = data['offsets'].numpy()\n",
    "                start_idx = data['start_index']\n",
    "                end_idx = data['end_index']\n",
    "                sentiment = data['sentiment']\n",
    "\n",
    "                model.zero_grad()\n",
    "                optimizer.zero_grad()\n",
    "                \n",
    "                ids = ids.to(device, dtype=torch.long)\n",
    "                masks = masks.to(device, dtype=torch.long)\n",
    "                start_idx = start_idx.to(device, dtype=torch.long)\n",
    "                end_idx = end_idx.to(device, dtype=torch.long)\n",
    "\n",
    "                with torch.set_grad_enabled(key == 'train'): \n",
    "\n",
    "                    start_logits, end_logits = model(ids, masks) \n",
    "                    \n",
    "                    loss = loss_function(start_logits, end_logits, start_idx, end_idx)\n",
    "                    \n",
    "                    if key == 'train':\n",
    "                        if idx != 0: \n",
    "                            loss.backward() # Perform a backward pass to calculate the gradients\n",
    "                        optimizer.step() # Update parameters and take a step using the computed gradient\n",
    "                        scheduler.step() # Update learning rate schedule                        \n",
    "                        \n",
    "                        # Clip the norm of the gradients to 1.0.\n",
    "                        # This is to help prevent the \"exploding gradients\" problem.\n",
    "                        torch.nn.utils.clip_grad_norm_(model.parameters(), 1.0)  \n",
    "                        \n",
    "                    epoch_loss += loss.item() * len(ids)\n",
    "                    \n",
    "                    # Move logits to CPU\n",
    "                    # detaching these outputs so that the backward passes stop at this point\n",
    "                    start_idx = start_idx.cpu().detach().numpy()\n",
    "                    end_idx = end_idx.cpu().detach().numpy()\n",
    "                    start_logits = torch.softmax(start_logits, dim=1).cpu().detach().numpy()\n",
    "                    end_logits = torch.softmax(end_logits, dim=1).cpu().detach().numpy()\n",
    "                    \n",
    "                    selected_text = data['selected_text']\n",
    "                    \n",
    "                    filtered_sentences = []\n",
    "                    for i, t_data in enumerate(text):\n",
    "                    #for i in range(len(ids)):                        \n",
    "                        jaccard_score, filtered_output = find_jaccard_score(\n",
    "                            t_data,\n",
    "                            selected_text[i],\n",
    "                            sentiment[i],\n",
    "                            offsets[i],\n",
    "                            start_logits[i], \n",
    "                            end_logits[i])\n",
    "                        epoch_jaccard += jaccard_score\n",
    "                        filtered_sentences.append(filtered_output)\n",
    "            \n",
    "            # Calculate the average loss over the training data\n",
    "            epoch_loss = epoch_loss / len(dataloaders.dataset)\n",
    "            # Calculate the average jaccard score over the training data\n",
    "            epoch_jaccard = epoch_jaccard / len(dataloaders.dataset)\n",
    "            \n",
    "            print('Epoch {}/{} | {:^5} | Loss: {:.4f} | Jaccard: {:.4f}'.format(\n",
    "                epoch + 1, num_epochs, key, epoch_loss, epoch_jaccard))\n",
    "            \n",
    "            # Store the loss value for plotting the learning curve.\n",
    "            if key == 'train':\n",
    "                train_loss.append(epoch_loss)\n",
    "                jac_train.append(epoch_jaccard)\n",
    "                \n",
    "            else:\n",
    "                val_loss.append(epoch_loss)\n",
    "                jac_val.append(epoch_jaccard)\n",
    "    \n",
    "    torch.save(model.state_dict(), filename)"
   ]
  },
  {
   "cell_type": "code",
   "execution_count": 17,
   "id": "6521d23d-1365-4730-bb9e-5fe75a45672c",
   "metadata": {},
   "outputs": [],
   "source": [
    "def set_seed(seed):\n",
    "    # Set random seed for reproducibility\n",
    "    random.seed(seed)\n",
    "    np.random.seed(seed)\n",
    "    torch.manual_seed(seed)\n",
    "    \n",
    "    if torch.cuda.is_available():\n",
    "        torch.cuda.manual_seed(seed)\n",
    "        torch.cuda.manual_seed_all(seed)\n",
    "        torch.backends.cudnn.deterministic = True\n",
    "        torch.backends.cudnn.benchmark = True\n",
    "        \n",
    "seed = 777\n",
    "set_seed(seed)"
   ]
  },
  {
   "cell_type": "code",
   "execution_count": 18,
   "id": "9b072901-e382-4016-877f-e7b02ac7d1ad",
   "metadata": {},
   "outputs": [],
   "source": [
    "skf = StratifiedKFold(n_splits=3,shuffle=True,random_state=seed)"
   ]
  },
  {
   "cell_type": "code",
   "execution_count": 19,
   "id": "2bce1022-a286-4531-8589-0cba9f309f65",
   "metadata": {},
   "outputs": [
    {
     "name": "stdout",
     "output_type": "stream",
     "text": [
      "##########\n",
      "### FOLD 1\n",
      "##########\n"
     ]
    },
    {
     "data": {
      "application/vnd.jupyter.widget-view+json": {
       "model_id": "337dbce331ef4fd992cf6c657866de46",
       "version_major": 2,
       "version_minor": 0
      },
      "text/plain": [
       "  0%|          | 0/1145 [00:00<?, ?it/s]"
      ]
     },
     "metadata": {},
     "output_type": "display_data"
    },
    {
     "name": "stdout",
     "output_type": "stream",
     "text": [
      "Epoch 1/5 | train | Loss: 3.5933 | Jaccard: 0.3875\n"
     ]
    },
    {
     "data": {
      "application/vnd.jupyter.widget-view+json": {
       "model_id": "aee0deaab33948aaa731bc405686bfdf",
       "version_major": 2,
       "version_minor": 0
      },
      "text/plain": [
       "  0%|          | 0/573 [00:00<?, ?it/s]"
      ]
     },
     "metadata": {},
     "output_type": "display_data"
    },
    {
     "name": "stdout",
     "output_type": "stream",
     "text": [
      "Epoch 1/5 |  val  | Loss: 1.7773 | Jaccard: 0.4928\n"
     ]
    },
    {
     "data": {
      "application/vnd.jupyter.widget-view+json": {
       "model_id": "51bbc49d23784c99b7c701abe156fd78",
       "version_major": 2,
       "version_minor": 0
      },
      "text/plain": [
       "  0%|          | 0/1145 [00:00<?, ?it/s]"
      ]
     },
     "metadata": {},
     "output_type": "display_data"
    },
    {
     "name": "stdout",
     "output_type": "stream",
     "text": [
      "Epoch 2/5 | train | Loss: 1.7611 | Jaccard: 0.5077\n"
     ]
    },
    {
     "data": {
      "application/vnd.jupyter.widget-view+json": {
       "model_id": "4f5f443899684dc3a13426f282a9633e",
       "version_major": 2,
       "version_minor": 0
      },
      "text/plain": [
       "  0%|          | 0/573 [00:00<?, ?it/s]"
      ]
     },
     "metadata": {},
     "output_type": "display_data"
    },
    {
     "name": "stdout",
     "output_type": "stream",
     "text": [
      "Epoch 2/5 |  val  | Loss: 1.7243 | Jaccard: 0.5425\n"
     ]
    },
    {
     "data": {
      "application/vnd.jupyter.widget-view+json": {
       "model_id": "88314d3a449240fe8ffda2ed8f0c223b",
       "version_major": 2,
       "version_minor": 0
      },
      "text/plain": [
       "  0%|          | 0/1145 [00:00<?, ?it/s]"
      ]
     },
     "metadata": {},
     "output_type": "display_data"
    },
    {
     "name": "stdout",
     "output_type": "stream",
     "text": [
      "Epoch 3/5 | train | Loss: 1.5910 | Jaccard: 0.5175\n"
     ]
    },
    {
     "data": {
      "application/vnd.jupyter.widget-view+json": {
       "model_id": "22e869701fe84cd08dcff158aa2a976f",
       "version_major": 2,
       "version_minor": 0
      },
      "text/plain": [
       "  0%|          | 0/573 [00:00<?, ?it/s]"
      ]
     },
     "metadata": {},
     "output_type": "display_data"
    },
    {
     "name": "stdout",
     "output_type": "stream",
     "text": [
      "Epoch 3/5 |  val  | Loss: 1.7632 | Jaccard: 0.5015\n"
     ]
    },
    {
     "data": {
      "application/vnd.jupyter.widget-view+json": {
       "model_id": "9abc5f98a92442a8bd046e10b131ee5e",
       "version_major": 2,
       "version_minor": 0
      },
      "text/plain": [
       "  0%|          | 0/1145 [00:00<?, ?it/s]"
      ]
     },
     "metadata": {},
     "output_type": "display_data"
    },
    {
     "name": "stdout",
     "output_type": "stream",
     "text": [
      "Epoch 4/5 | train | Loss: 1.4305 | Jaccard: 0.5304\n"
     ]
    },
    {
     "data": {
      "application/vnd.jupyter.widget-view+json": {
       "model_id": "0298c3d6928f485ca437d765b93827b6",
       "version_major": 2,
       "version_minor": 0
      },
      "text/plain": [
       "  0%|          | 0/573 [00:00<?, ?it/s]"
      ]
     },
     "metadata": {},
     "output_type": "display_data"
    },
    {
     "name": "stdout",
     "output_type": "stream",
     "text": [
      "Epoch 4/5 |  val  | Loss: 1.7401 | Jaccard: 0.4964\n"
     ]
    },
    {
     "data": {
      "application/vnd.jupyter.widget-view+json": {
       "model_id": "4716b1ac3457409b9c10e9ca277eaea5",
       "version_major": 2,
       "version_minor": 0
      },
      "text/plain": [
       "  0%|          | 0/1145 [00:00<?, ?it/s]"
      ]
     },
     "metadata": {},
     "output_type": "display_data"
    },
    {
     "name": "stdout",
     "output_type": "stream",
     "text": [
      "Epoch 5/5 | train | Loss: 1.2575 | Jaccard: 0.5477\n"
     ]
    },
    {
     "data": {
      "application/vnd.jupyter.widget-view+json": {
       "model_id": "867b1b51dce04e7a84140de0f5324ccf",
       "version_major": 2,
       "version_minor": 0
      },
      "text/plain": [
       "  0%|          | 0/573 [00:00<?, ?it/s]"
      ]
     },
     "metadata": {},
     "output_type": "display_data"
    },
    {
     "name": "stdout",
     "output_type": "stream",
     "text": [
      "Epoch 5/5 |  val  | Loss: 1.8578 | Jaccard: 0.4952\n",
      "##########\n",
      "### FOLD 2\n",
      "##########\n"
     ]
    },
    {
     "data": {
      "application/vnd.jupyter.widget-view+json": {
       "model_id": "659e3130d9204fb4bb089f9fd9104720",
       "version_major": 2,
       "version_minor": 0
      },
      "text/plain": [
       "  0%|          | 0/1145 [00:00<?, ?it/s]"
      ]
     },
     "metadata": {},
     "output_type": "display_data"
    },
    {
     "name": "stdout",
     "output_type": "stream",
     "text": [
      "Epoch 1/5 | train | Loss: 2.0470 | Jaccard: 0.4926\n"
     ]
    },
    {
     "data": {
      "application/vnd.jupyter.widget-view+json": {
       "model_id": "b297c1654f714ec39c57b9fad76b17b7",
       "version_major": 2,
       "version_minor": 0
      },
      "text/plain": [
       "  0%|          | 0/573 [00:00<?, ?it/s]"
      ]
     },
     "metadata": {},
     "output_type": "display_data"
    },
    {
     "name": "stdout",
     "output_type": "stream",
     "text": [
      "Epoch 1/5 |  val  | Loss: 1.6963 | Jaccard: 0.5265\n"
     ]
    },
    {
     "data": {
      "application/vnd.jupyter.widget-view+json": {
       "model_id": "192dc4d7a0a34547a89d502fbacc4d88",
       "version_major": 2,
       "version_minor": 0
      },
      "text/plain": [
       "  0%|          | 0/1145 [00:00<?, ?it/s]"
      ]
     },
     "metadata": {},
     "output_type": "display_data"
    },
    {
     "name": "stdout",
     "output_type": "stream",
     "text": [
      "Epoch 2/5 | train | Loss: 1.5900 | Jaccard: 0.5140\n"
     ]
    },
    {
     "data": {
      "application/vnd.jupyter.widget-view+json": {
       "model_id": "5310f4b3ab454640971db96524d83dd5",
       "version_major": 2,
       "version_minor": 0
      },
      "text/plain": [
       "  0%|          | 0/573 [00:00<?, ?it/s]"
      ]
     },
     "metadata": {},
     "output_type": "display_data"
    },
    {
     "name": "stdout",
     "output_type": "stream",
     "text": [
      "Epoch 2/5 |  val  | Loss: 1.6621 | Jaccard: 0.4746\n"
     ]
    },
    {
     "data": {
      "application/vnd.jupyter.widget-view+json": {
       "model_id": "590ea46c0960454f963300982831ce72",
       "version_major": 2,
       "version_minor": 0
      },
      "text/plain": [
       "  0%|          | 0/1145 [00:00<?, ?it/s]"
      ]
     },
     "metadata": {},
     "output_type": "display_data"
    },
    {
     "name": "stdout",
     "output_type": "stream",
     "text": [
      "Epoch 3/5 | train | Loss: 1.4488 | Jaccard: 0.5245\n"
     ]
    },
    {
     "data": {
      "application/vnd.jupyter.widget-view+json": {
       "model_id": "778a41ee2e6b42c8ac80057da48507e1",
       "version_major": 2,
       "version_minor": 0
      },
      "text/plain": [
       "  0%|          | 0/573 [00:00<?, ?it/s]"
      ]
     },
     "metadata": {},
     "output_type": "display_data"
    },
    {
     "name": "stdout",
     "output_type": "stream",
     "text": [
      "Epoch 3/5 |  val  | Loss: 1.6557 | Jaccard: 0.4869\n"
     ]
    },
    {
     "data": {
      "application/vnd.jupyter.widget-view+json": {
       "model_id": "a1e17879bb024d09bd2a1e221a74bf45",
       "version_major": 2,
       "version_minor": 0
      },
      "text/plain": [
       "  0%|          | 0/1145 [00:00<?, ?it/s]"
      ]
     },
     "metadata": {},
     "output_type": "display_data"
    },
    {
     "name": "stdout",
     "output_type": "stream",
     "text": [
      "Epoch 4/5 | train | Loss: 1.2927 | Jaccard: 0.5412\n"
     ]
    },
    {
     "data": {
      "application/vnd.jupyter.widget-view+json": {
       "model_id": "869ddad8d5ef46d7940ac5dfdeff95a7",
       "version_major": 2,
       "version_minor": 0
      },
      "text/plain": [
       "  0%|          | 0/573 [00:00<?, ?it/s]"
      ]
     },
     "metadata": {},
     "output_type": "display_data"
    },
    {
     "name": "stdout",
     "output_type": "stream",
     "text": [
      "Epoch 4/5 |  val  | Loss: 1.6975 | Jaccard: 0.5199\n"
     ]
    },
    {
     "data": {
      "application/vnd.jupyter.widget-view+json": {
       "model_id": "6354e7ca631a4693899c4e487d4a3eb6",
       "version_major": 2,
       "version_minor": 0
      },
      "text/plain": [
       "  0%|          | 0/1145 [00:00<?, ?it/s]"
      ]
     },
     "metadata": {},
     "output_type": "display_data"
    },
    {
     "name": "stdout",
     "output_type": "stream",
     "text": [
      "Epoch 5/5 | train | Loss: 1.1242 | Jaccard: 0.5607\n"
     ]
    },
    {
     "data": {
      "application/vnd.jupyter.widget-view+json": {
       "model_id": "14dee7ad84894dc19e982eb6abd736c7",
       "version_major": 2,
       "version_minor": 0
      },
      "text/plain": [
       "  0%|          | 0/573 [00:00<?, ?it/s]"
      ]
     },
     "metadata": {},
     "output_type": "display_data"
    },
    {
     "name": "stdout",
     "output_type": "stream",
     "text": [
      "Epoch 5/5 |  val  | Loss: 1.9148 | Jaccard: 0.5109\n",
      "##########\n",
      "### FOLD 3\n",
      "##########\n"
     ]
    },
    {
     "data": {
      "application/vnd.jupyter.widget-view+json": {
       "model_id": "96ba2556c7b44fffa2eac928391db4f4",
       "version_major": 2,
       "version_minor": 0
      },
      "text/plain": [
       "  0%|          | 0/1145 [00:00<?, ?it/s]"
      ]
     },
     "metadata": {},
     "output_type": "display_data"
    },
    {
     "name": "stdout",
     "output_type": "stream",
     "text": [
      "Epoch 1/5 | train | Loss: 2.0054 | Jaccard: 0.4938\n"
     ]
    },
    {
     "data": {
      "application/vnd.jupyter.widget-view+json": {
       "model_id": "fbb45dbf54ee4293a9968804bb166a78",
       "version_major": 2,
       "version_minor": 0
      },
      "text/plain": [
       "  0%|          | 0/573 [00:00<?, ?it/s]"
      ]
     },
     "metadata": {},
     "output_type": "display_data"
    },
    {
     "name": "stdout",
     "output_type": "stream",
     "text": [
      "Epoch 1/5 |  val  | Loss: 1.6767 | Jaccard: 0.4977\n"
     ]
    },
    {
     "data": {
      "application/vnd.jupyter.widget-view+json": {
       "model_id": "d01a380152c1466a8518341c5a2fb9ca",
       "version_major": 2,
       "version_minor": 0
      },
      "text/plain": [
       "  0%|          | 0/1145 [00:00<?, ?it/s]"
      ]
     },
     "metadata": {},
     "output_type": "display_data"
    },
    {
     "name": "stdout",
     "output_type": "stream",
     "text": [
      "Epoch 2/5 | train | Loss: 1.6056 | Jaccard: 0.5082\n"
     ]
    },
    {
     "data": {
      "application/vnd.jupyter.widget-view+json": {
       "model_id": "823579de02dd47b2a10d93998db252e1",
       "version_major": 2,
       "version_minor": 0
      },
      "text/plain": [
       "  0%|          | 0/573 [00:00<?, ?it/s]"
      ]
     },
     "metadata": {},
     "output_type": "display_data"
    },
    {
     "name": "stdout",
     "output_type": "stream",
     "text": [
      "Epoch 2/5 |  val  | Loss: 1.6515 | Jaccard: 0.5079\n"
     ]
    },
    {
     "data": {
      "application/vnd.jupyter.widget-view+json": {
       "model_id": "dd4fa070d39a4731a1908516f94ecb1d",
       "version_major": 2,
       "version_minor": 0
      },
      "text/plain": [
       "  0%|          | 0/1145 [00:00<?, ?it/s]"
      ]
     },
     "metadata": {},
     "output_type": "display_data"
    },
    {
     "name": "stdout",
     "output_type": "stream",
     "text": [
      "Epoch 3/5 | train | Loss: 1.4152 | Jaccard: 0.5269\n"
     ]
    },
    {
     "data": {
      "application/vnd.jupyter.widget-view+json": {
       "model_id": "dd31be9e2e19440c8e3443f1eb94fa46",
       "version_major": 2,
       "version_minor": 0
      },
      "text/plain": [
       "  0%|          | 0/573 [00:00<?, ?it/s]"
      ]
     },
     "metadata": {},
     "output_type": "display_data"
    },
    {
     "name": "stdout",
     "output_type": "stream",
     "text": [
      "Epoch 3/5 |  val  | Loss: 1.7228 | Jaccard: 0.5296\n"
     ]
    },
    {
     "data": {
      "application/vnd.jupyter.widget-view+json": {
       "model_id": "4ec59f3995ff4f36a6cfa1da17bbbb32",
       "version_major": 2,
       "version_minor": 0
      },
      "text/plain": [
       "  0%|          | 0/1145 [00:00<?, ?it/s]"
      ]
     },
     "metadata": {},
     "output_type": "display_data"
    },
    {
     "name": "stdout",
     "output_type": "stream",
     "text": [
      "Epoch 4/5 | train | Loss: 1.2492 | Jaccard: 0.5429\n"
     ]
    },
    {
     "data": {
      "application/vnd.jupyter.widget-view+json": {
       "model_id": "e51e0043ccf14f3f95565cdfc9feb5c4",
       "version_major": 2,
       "version_minor": 0
      },
      "text/plain": [
       "  0%|          | 0/573 [00:00<?, ?it/s]"
      ]
     },
     "metadata": {},
     "output_type": "display_data"
    },
    {
     "name": "stdout",
     "output_type": "stream",
     "text": [
      "Epoch 4/5 |  val  | Loss: 1.8279 | Jaccard: 0.5369\n"
     ]
    },
    {
     "data": {
      "application/vnd.jupyter.widget-view+json": {
       "model_id": "601eec6e128040409926a5bb63552506",
       "version_major": 2,
       "version_minor": 0
      },
      "text/plain": [
       "  0%|          | 0/1145 [00:00<?, ?it/s]"
      ]
     },
     "metadata": {},
     "output_type": "display_data"
    },
    {
     "name": "stdout",
     "output_type": "stream",
     "text": [
      "Epoch 5/5 | train | Loss: 1.0696 | Jaccard: 0.5672\n"
     ]
    },
    {
     "data": {
      "application/vnd.jupyter.widget-view+json": {
       "model_id": "0d66775809bf4c5fa695f4059cdb56b9",
       "version_major": 2,
       "version_minor": 0
      },
      "text/plain": [
       "  0%|          | 0/573 [00:00<?, ?it/s]"
      ]
     },
     "metadata": {},
     "output_type": "display_data"
    },
    {
     "name": "stdout",
     "output_type": "stream",
     "text": [
      "Epoch 5/5 |  val  | Loss: 2.0883 | Jaccard: 0.5231\n",
      "CPU times: total: 1h 52min 47s\n",
      "Wall time: 2h 6min 39s\n"
     ]
    }
   ],
   "source": [
    "%%time\n",
    "\n",
    "for fold, (idxTrain, idxVal) in enumerate(skf.split(train_df, train_df.sentiment), start=1):\n",
    "    \n",
    "    print('#'*10)\n",
    "    print('### FOLD %i'%(fold))\n",
    "    print('#'*10)\n",
    "    \n",
    "    model = TextModel()\n",
    "    optimizer = AdamW(model.parameters(), lr=3e-5, weight_decay=0.01, correct_bias=False)\n",
    "    dataloaders_dict = train_val_dataloaders(train_df, idxTrain, idxVal, batch_size=TRAIN_BATCH_SIZE)\n",
    "    num_training_steps = int(len(train_df) / EPOCHS * TRAIN_BATCH_SIZE)\n",
    "    # warmup_proportion = float(num_warmup_steps) / float(num_training_steps)\n",
    "    scheduler = get_linear_schedule_with_warmup(\n",
    "                  optimizer,\n",
    "                  num_warmup_steps=0, #default #use a linear scheduler with no warmup steps\n",
    "                  num_training_steps=num_training_steps\n",
    "                )    \n",
    "    train(\n",
    "        model, \n",
    "        dataloaders_dict, \n",
    "        optimizer, \n",
    "        EPOCHS,\n",
    "        scheduler,\n",
    "        device,\n",
    "        f'bert_fold{fold}.pth')"
   ]
  },
  {
   "cell_type": "code",
   "execution_count": null,
   "id": "a048abbc-30da-4f40-a8c6-c8ca17192841",
   "metadata": {},
   "outputs": [],
   "source": []
  },
  {
   "cell_type": "code",
   "execution_count": 20,
   "id": "bea7ceba-c625-4ab7-abee-db91e152c76d",
   "metadata": {},
   "outputs": [
    {
     "data": {
      "image/png": "[encoded data removed]",
      "text/plain": [
       "<Figure size 640x480 with 1 Axes>"
      ]
     },
     "metadata": {},
     "output_type": "display_data"
    }
   ],
   "source": [
    "plt.plot(range(len(train_loss)), train_loss, 'b', label='Training loss')\n",
    "plt.plot(range(len(val_loss)), val_loss, 'r', label='Validation loss')\n",
    "plt.title('Training and Validation loss')\n",
    "plt.xlabel('Epochs ',fontsize=16)\n",
    "plt.ylabel('Loss',fontsize=16)\n",
    "plt.show()"
   ]
  },
  {
   "cell_type": "code",
   "execution_count": 21,
   "id": "862953b2-c223-4337-a6d8-ce7f9b189b12",
   "metadata": {},
   "outputs": [
    {
     "data": {
      "image/png": "[encoded data removed]",
      "text/plain": [
       "<Figure size 640x480 with 1 Axes>"
      ]
     },
     "metadata": {},
     "output_type": "display_data"
    }
   ],
   "source": [
    "plt.plot(range(len(jac_train)), jac_train, 'b', label='Training jaccard score')\n",
    "plt.plot(range(len(jac_val)), jac_val, 'r', label='Validation jaccard score')\n",
    "plt.title('Training and validation jaccard score')\n",
    "plt.xlabel('Epochs ',fontsize=16)\n",
    "plt.ylabel('Jaccard Score',fontsize=16)\n",
    "plt.show()"
   ]
  },
  {
   "cell_type": "code",
   "execution_count": 22,
   "id": "8d3184ac-d9b1-4958-acfb-faaee38d52a3",
   "metadata": {},
   "outputs": [
    {
     "data": {
      "application/vnd.jupyter.widget-view+json": {
       "model_id": "060b3efcde354ec5b95e73c0e06d203f",
       "version_major": 2,
       "version_minor": 0
      },
      "text/plain": [
       "  0%|          | 0/221 [00:00<?, ?it/s]"
      ]
     },
     "metadata": {},
     "output_type": "display_data"
    },
    {
     "name": "stdout",
     "output_type": "stream",
     "text": [
      "CPU times: total: 1min 19s\n",
      "Wall time: 1min 26s\n"
     ]
    }
   ],
   "source": [
    "%%time\n",
    "\n",
    "t_loader = test_loader(test_df)\n",
    "predictions = []\n",
    "models = []\n",
    "for fold in range(skf.n_splits):\n",
    "    model = TextModel()\n",
    "    model.to(device)\n",
    "    model.load_state_dict(torch.load(f'./bert_fold{fold+1}.pth'))\n",
    "    model.eval()\n",
    "    models.append(model)\n",
    "\n",
    "loader = tqdm(t_loader, total=len(t_loader))\n",
    "for (idx, data) in enumerate(loader):\n",
    "    ids = data['ids'].to(device)\n",
    "    masks = data['masks'].to(device)\n",
    "    text = data['text']\n",
    "    offsets = data['offsets'].numpy()\n",
    "\n",
    "    start_logits = []\n",
    "    end_logits = []\n",
    "    for model in models:\n",
    "        with torch.no_grad():\n",
    "            output = model(ids, masks)\n",
    "            start_logits.append(torch.softmax(output[0], dim=1).cpu().detach().numpy())\n",
    "            end_logits.append(torch.softmax(output[1], dim=1).cpu().detach().numpy())\n",
    "\n",
    "    start_logits = np.mean(start_logits, axis=0)\n",
    "    end_logits = np.mean(end_logits, axis=0)\n",
    "    \n",
    "    for i, t_data in enumerate(text):\n",
    "        start_pred = np.argmax(start_logits[i])\n",
    "        end_pred = np.argmax(end_logits[i])\n",
    "        if start_pred >= end_pred:\n",
    "            enc = tokenizer.encode(t_data)\n",
    "            prediction = tokenizer.decode(enc.ids[start_pred-1:end_pred])\n",
    "        else:\n",
    "            prediction = get_selected_text(t_data, start_pred, end_pred, offsets[i])\n",
    "        predictions.append(prediction)"
   ]
  },
  {
   "cell_type": "code",
   "execution_count": 23,
   "id": "9f0e33ce-6616-49ab-89a2-42eb9906c045",
   "metadata": {},
   "outputs": [],
   "source": [
    "sub_df = pd.read_csv('./input/sample_submission.csv')\n",
    "sub_df['selected_text'] = predictions\n",
    "# post-processing trick\n",
    "sub_df['selected_text'] = sub_df['selected_text'].apply(lambda x: x.replace('!!!!', '!') if len(x.split())==1 else x)\n",
    "sub_df['selected_text'] = sub_df['selected_text'].apply(lambda x: x.replace('..', '.') if len(x.split())==1 else x)\n",
    "sub_df['selected_text'] = sub_df['selected_text'].apply(lambda x: x.replace('...', '.') if len(x.split())==1 else x)\n",
    "sub_df[['textID','selected_text']].to_csv('submission.csv',index=False)\n",
    "pd.set_option('max_colwidth', 60)"
   ]
  },
  {
   "cell_type": "code",
   "execution_count": 24,
   "id": "b25877b1-1433-43aa-9abc-4487e3908989",
   "metadata": {},
   "outputs": [
    {
     "data": {
      "text/html": [
       "<div>\n",
       "<style scoped>\n",
       "    .dataframe tbody tr th:only-of-type {\n",
       "        vertical-align: middle;\n",
       "    }\n",
       "\n",
       "    .dataframe tbody tr th {\n",
       "        vertical-align: top;\n",
       "    }\n",
       "\n",
       "    .dataframe thead th {\n",
       "        text-align: right;\n",
       "    }\n",
       "</style>\n",
       "<table border=\"1\" class=\"dataframe\">\n",
       "  <thead>\n",
       "    <tr style=\"text-align: right;\">\n",
       "      <th></th>\n",
       "      <th>textID</th>\n",
       "      <th>selected_text</th>\n",
       "    </tr>\n",
       "  </thead>\n",
       "  <tbody>\n",
       "    <tr>\n",
       "      <th>1988</th>\n",
       "      <td>faee4563bd</td>\n",
       "      <td>..congrats</td>\n",
       "    </tr>\n",
       "    <tr>\n",
       "      <th>1085</th>\n",
       "      <td>0144252776</td>\n",
       "      <td>and, yes. i &lt;3 mac, if only it weren`t so expensive</td>\n",
       "    </tr>\n",
       "    <tr>\n",
       "      <th>424</th>\n",
       "      <td>0693a85163</td>\n",
       "      <td>boring.</td>\n",
       "    </tr>\n",
       "    <tr>\n",
       "      <th>1815</th>\n",
       "      <td>59ee5ff2f9</td>\n",
       "      <td>of</td>\n",
       "    </tr>\n",
       "    <tr>\n",
       "      <th>432</th>\n",
       "      <td>d7746b6b68</td>\n",
       "      <td>is listening to p!nk tunage and trying to teach my cat ...</td>\n",
       "    </tr>\n",
       "    <tr>\n",
       "      <th>2963</th>\n",
       "      <td>08ad89c6b0</td>\n",
       "      <td>yayy.</td>\n",
       "    </tr>\n",
       "    <tr>\n",
       "      <th>2437</th>\n",
       "      <td>a1b12787c2</td>\n",
       "      <td>rare treat</td>\n",
       "    </tr>\n",
       "    <tr>\n",
       "      <th>980</th>\n",
       "      <td>67cafda653</td>\n",
       "      <td>i am public and can`t get anyone to follow me</td>\n",
       "    </tr>\n",
       "    <tr>\n",
       "      <th>3012</th>\n",
       "      <td>9f89432794</td>\n",
       "      <td>missing my big girl.</td>\n",
       "    </tr>\n",
       "    <tr>\n",
       "      <th>712</th>\n",
       "      <td>c9e5ca399a</td>\n",
       "      <td>i miss you.</td>\n",
       "    </tr>\n",
       "    <tr>\n",
       "      <th>1329</th>\n",
       "      <td>a5640db7a7</td>\n",
       "      <td>sorry jj i missed that post i`ll make sure do so next t...</td>\n",
       "    </tr>\n",
       "    <tr>\n",
       "      <th>1742</th>\n",
       "      <td>242de9277c</td>\n",
       "      <td>good to hear...</td>\n",
       "    </tr>\n",
       "    <tr>\n",
       "      <th>3443</th>\n",
       "      <td>688784c5a9</td>\n",
       "      <td>this</td>\n",
       "    </tr>\n",
       "    <tr>\n",
       "      <th>498</th>\n",
       "      <td>fc0b053a31</td>\n",
       "      <td>i can`t belive you only have one episode to go ****</td>\n",
       "    </tr>\n",
       "    <tr>\n",
       "      <th>366</th>\n",
       "      <td>bebcdc05ad</td>\n",
       "      <td>u welcome babe, kill the show! yuuupp!</td>\n",
       "    </tr>\n",
       "    <tr>\n",
       "      <th>3182</th>\n",
       "      <td>e42d0e6e9d</td>\n",
       "      <td>meh, i feel fine now, it was crazy 10 minute sickness s...</td>\n",
       "    </tr>\n",
       "    <tr>\n",
       "      <th>2820</th>\n",
       "      <td>adf5be9ada</td>\n",
       "      <td>i need a hug cuz these garbage truck men keep driving n...</td>\n",
       "    </tr>\n",
       "    <tr>\n",
       "      <th>3195</th>\n",
       "      <td>94977637ab</td>\n",
       "      <td>crushed.</td>\n",
       "    </tr>\n",
       "    <tr>\n",
       "      <th>780</th>\n",
       "      <td>eb9c11eb52</td>\n",
       "      <td>no sleep sucks</td>\n",
       "    </tr>\n",
       "    <tr>\n",
       "      <th>794</th>\n",
       "      <td>017a0bbb36</td>\n",
       "      <td>5</td>\n",
       "    </tr>\n",
       "    <tr>\n",
       "      <th>2609</th>\n",
       "      <td>052fbbb0a9</td>\n",
       "      <td>sat alone whilst jay plays on his phone</td>\n",
       "    </tr>\n",
       "    <tr>\n",
       "      <th>2955</th>\n",
       "      <td>8dc2975248</td>\n",
       "      <td>its suzi</td>\n",
       "    </tr>\n",
       "    <tr>\n",
       "      <th>1940</th>\n",
       "      <td>00276ae6b1</td>\n",
       "      <td>emoticons by christian. ' ' http://twitpic.com/66riq</td>\n",
       "    </tr>\n",
       "    <tr>\n",
       "      <th>2232</th>\n",
       "      <td>f18ed21359</td>\n",
       "      <td>i`m a senior. i should of been already.</td>\n",
       "    </tr>\n",
       "    <tr>\n",
       "      <th>44</th>\n",
       "      <td>d3d7b13278</td>\n",
       "      <td></td>\n",
       "    </tr>\n",
       "  </tbody>\n",
       "</table>\n",
       "</div>"
      ],
      "text/plain": [
       "          textID                                                selected_text\n",
       "1988  faee4563bd                                                   ..congrats\n",
       "1085  0144252776          and, yes. i <3 mac, if only it weren`t so expensive\n",
       "424   0693a85163                                                      boring.\n",
       "1815  59ee5ff2f9                                                           of\n",
       "432   d7746b6b68   is listening to p!nk tunage and trying to teach my cat ...\n",
       "2963  08ad89c6b0                                                        yayy.\n",
       "2437  a1b12787c2                                                   rare treat\n",
       "980   67cafda653                i am public and can`t get anyone to follow me\n",
       "3012  9f89432794                                         missing my big girl.\n",
       "712   c9e5ca399a                                                  i miss you.\n",
       "1329  a5640db7a7   sorry jj i missed that post i`ll make sure do so next t...\n",
       "1742  242de9277c                                              good to hear...\n",
       "3443  688784c5a9                                                         this\n",
       "498   fc0b053a31          i can`t belive you only have one episode to go ****\n",
       "366   bebcdc05ad                       u welcome babe, kill the show! yuuupp!\n",
       "3182  e42d0e6e9d   meh, i feel fine now, it was crazy 10 minute sickness s...\n",
       "2820  adf5be9ada   i need a hug cuz these garbage truck men keep driving n...\n",
       "3195  94977637ab                                                     crushed.\n",
       "780   eb9c11eb52                                               no sleep sucks\n",
       "794   017a0bbb36                                                            5\n",
       "2609  052fbbb0a9                      sat alone whilst jay plays on his phone\n",
       "2955  8dc2975248                                                     its suzi\n",
       "1940  00276ae6b1         emoticons by christian. ' ' http://twitpic.com/66riq\n",
       "2232  f18ed21359                      i`m a senior. i should of been already.\n",
       "44    d3d7b13278                                                             "
      ]
     },
     "execution_count": 24,
     "metadata": {},
     "output_type": "execute_result"
    }
   ],
   "source": [
    "sub_df.sample(25)"
   ]
  },
  {
   "cell_type": "code",
   "execution_count": null,
   "id": "5fb1a7b0-2d59-4348-9393-3fc31343936d",
   "metadata": {},
   "outputs": [],
   "source": []
  }
 ],
 "metadata": {
  "kernelspec": {
   "display_name": "Python 3 (ipykernel)",
   "language": "python",
   "name": "python3"
  },
  "language_info": {
   "codemirror_mode": {
    "name": "ipython",
    "version": 3
   },
   "file_extension": ".py",
   "mimetype": "text/x-python",
   "name": "python",
   "nbconvert_exporter": "python",
   "pygments_lexer": "ipython3",
   "version": "3.10.14"
  }
 },
 "nbformat": 4,
 "nbformat_minor": 5
}
